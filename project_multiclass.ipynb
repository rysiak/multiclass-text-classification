{
 "cells": [
  {
   "cell_type": "markdown",
   "id": "68b78ef5",
   "metadata": {},
   "source": [
    "# ✅ multiclass classification\n",
    "\n",
    "This is a project developed as a final project at the Data Science bootcamp organised by Sages.\n",
    "\n",
    "The goal is to train different classifier and test the outcomes trying to achieve better predictions of topics for new documents.\n",
    "\n",
    "The dataset used in this project is the **20 newsgroups dataset** which is a collection of approximately 20 000 newsgroup documents, partitioned across 20 different newsgroups. Dataset is available in scikit learn.\n"
   ]
  },
  {
   "cell_type": "markdown",
   "id": "55332ce9",
   "metadata": {},
   "source": [
    "#### importing modules"
   ]
  },
  {
   "cell_type": "code",
   "execution_count": 1,
   "id": "2133fcc5",
   "metadata": {},
   "outputs": [],
   "source": [
    "import pandas as pd\n",
    "import numpy as np\n",
    "import matplotlib.pyplot as plt\n",
    "from myfunctions import *\n",
    "from sklearn.datasets import fetch_20newsgroups\n",
    "from sklearn.model_selection import train_test_split\n",
    "from nltk.corpus import stopwords\n",
    "from imblearn.over_sampling import SMOTE\n",
    "from sklearn.feature_extraction.text import TfidfVectorizer\n",
    "from tensorflow.keras.preprocessing.text import Tokenizer, text_to_word_sequence\n",
    "from tensorflow.keras.preprocessing.sequence import pad_sequences\n",
    "from keras.utils.np_utils import to_categorical\n",
    "import gensim\n",
    "from gensim.models import Word2Vec\n",
    "import gensim.downloader as api\n",
    "from tensorflow.keras.models import Sequential\n",
    "from tensorflow.keras.layers import Embedding, LSTM, Dense\n",
    "from tensorflow.keras.callbacks import EarlyStopping, ModelCheckpoint\n",
    "from sklearn.model_selection import GridSearchCV, StratifiedKFold\n",
    "from sklearn.naive_bayes import MultinomialNB\n",
    "from sklearn.svm import SVC\n",
    "from sklearn.ensemble import RandomForestClassifier\n",
    "from warnings import filterwarnings\n",
    "filterwarnings(\"ignore\")"
   ]
  },
  {
   "cell_type": "code",
   "execution_count": 2,
   "id": "bef0a062",
   "metadata": {},
   "outputs": [],
   "source": [
    "pd.set_option('max_colwidth', 1000)\n",
    "RANDOM_STATE = 54"
   ]
  },
  {
   "cell_type": "markdown",
   "id": "f35ec0c2",
   "metadata": {},
   "source": [
    "## 1. Loading the data"
   ]
  },
  {
   "cell_type": "code",
   "execution_count": 3,
   "id": "b38ab627",
   "metadata": {},
   "outputs": [],
   "source": [
    "news_train = fetch_20newsgroups(subset='train', remove=('headers', 'footers', 'quotes'))\n",
    "news_test  = fetch_20newsgroups(subset='test',  remove=('headers', 'footers', 'quotes'))\n",
    "num_classes = len(news_train.target_names)\n",
    "\n",
    "train_df = pd.DataFrame({'target':news_train.target,\n",
    "                         'target_name':[news_train.target_names[i] for i in news_train.target],\n",
    "                         'content':news_train.data})\n",
    "test_df  = pd.DataFrame({'target':news_test.target,\n",
    "                         'target_name':[news_test.target_names[i] for i in news_test.target],\n",
    "                         'content':news_test.data})"
   ]
  },
  {
   "cell_type": "markdown",
   "id": "54aaba3a",
   "metadata": {},
   "source": [
    "note: newsgroup-related metadata (headers, signature blocks and quotation blocks) were removed for more realistic results"
   ]
  },
  {
   "cell_type": "markdown",
   "id": "aa3b416f",
   "metadata": {},
   "source": [
    "## 2. Exploratory data analysis"
   ]
  },
  {
   "cell_type": "markdown",
   "id": "b3375e6e",
   "metadata": {},
   "source": [
    "### target variable"
   ]
  },
  {
   "cell_type": "markdown",
   "id": "6a1dbffa",
   "metadata": {},
   "source": [
    "The target variable is a categorical variable with 20 different newsgroups topic. Some of the newsgroups seems to very closely related to each other like *comp.sys.ibm.pc.hardware* and *comp.sys.mac.hardware*.\n",
    "\n",
    "Frequency of each topic in train and test set are the same.\n",
    "\n",
    "There are three classes with slightly less observations than others: *alt.atheism*, *talk.religion.misc* and *talk.politics.misc*."
   ]
  },
  {
   "cell_type": "code",
   "execution_count": 4,
   "id": "67bf1749",
   "metadata": {},
   "outputs": [
    {
     "data": {
      "text/html": [
       "<div>\n",
       "<style scoped>\n",
       "    .dataframe tbody tr th:only-of-type {\n",
       "        vertical-align: middle;\n",
       "    }\n",
       "\n",
       "    .dataframe tbody tr th {\n",
       "        vertical-align: top;\n",
       "    }\n",
       "\n",
       "    .dataframe thead th {\n",
       "        text-align: right;\n",
       "    }\n",
       "</style>\n",
       "<table border=\"1\" class=\"dataframe\">\n",
       "  <thead>\n",
       "    <tr style=\"text-align: right;\">\n",
       "      <th></th>\n",
       "      <th>training set</th>\n",
       "      <th>test set</th>\n",
       "      <th>total</th>\n",
       "    </tr>\n",
       "  </thead>\n",
       "  <tbody>\n",
       "    <tr>\n",
       "      <th>alt.atheism</th>\n",
       "      <td>480</td>\n",
       "      <td>319</td>\n",
       "      <td>799</td>\n",
       "    </tr>\n",
       "    <tr>\n",
       "      <th>comp.graphics</th>\n",
       "      <td>584</td>\n",
       "      <td>389</td>\n",
       "      <td>973</td>\n",
       "    </tr>\n",
       "    <tr>\n",
       "      <th>comp.os.ms-windows.misc</th>\n",
       "      <td>591</td>\n",
       "      <td>394</td>\n",
       "      <td>985</td>\n",
       "    </tr>\n",
       "    <tr>\n",
       "      <th>comp.sys.ibm.pc.hardware</th>\n",
       "      <td>590</td>\n",
       "      <td>392</td>\n",
       "      <td>982</td>\n",
       "    </tr>\n",
       "    <tr>\n",
       "      <th>comp.sys.mac.hardware</th>\n",
       "      <td>578</td>\n",
       "      <td>385</td>\n",
       "      <td>963</td>\n",
       "    </tr>\n",
       "    <tr>\n",
       "      <th>comp.windows.x</th>\n",
       "      <td>593</td>\n",
       "      <td>395</td>\n",
       "      <td>988</td>\n",
       "    </tr>\n",
       "    <tr>\n",
       "      <th>misc.forsale</th>\n",
       "      <td>585</td>\n",
       "      <td>390</td>\n",
       "      <td>975</td>\n",
       "    </tr>\n",
       "    <tr>\n",
       "      <th>rec.autos</th>\n",
       "      <td>594</td>\n",
       "      <td>396</td>\n",
       "      <td>990</td>\n",
       "    </tr>\n",
       "    <tr>\n",
       "      <th>rec.motorcycles</th>\n",
       "      <td>598</td>\n",
       "      <td>398</td>\n",
       "      <td>996</td>\n",
       "    </tr>\n",
       "    <tr>\n",
       "      <th>rec.sport.baseball</th>\n",
       "      <td>597</td>\n",
       "      <td>397</td>\n",
       "      <td>994</td>\n",
       "    </tr>\n",
       "    <tr>\n",
       "      <th>rec.sport.hockey</th>\n",
       "      <td>600</td>\n",
       "      <td>399</td>\n",
       "      <td>999</td>\n",
       "    </tr>\n",
       "    <tr>\n",
       "      <th>sci.crypt</th>\n",
       "      <td>595</td>\n",
       "      <td>396</td>\n",
       "      <td>991</td>\n",
       "    </tr>\n",
       "    <tr>\n",
       "      <th>sci.electronics</th>\n",
       "      <td>591</td>\n",
       "      <td>393</td>\n",
       "      <td>984</td>\n",
       "    </tr>\n",
       "    <tr>\n",
       "      <th>sci.med</th>\n",
       "      <td>594</td>\n",
       "      <td>396</td>\n",
       "      <td>990</td>\n",
       "    </tr>\n",
       "    <tr>\n",
       "      <th>sci.space</th>\n",
       "      <td>593</td>\n",
       "      <td>394</td>\n",
       "      <td>987</td>\n",
       "    </tr>\n",
       "    <tr>\n",
       "      <th>soc.religion.christian</th>\n",
       "      <td>599</td>\n",
       "      <td>398</td>\n",
       "      <td>997</td>\n",
       "    </tr>\n",
       "    <tr>\n",
       "      <th>talk.politics.guns</th>\n",
       "      <td>546</td>\n",
       "      <td>364</td>\n",
       "      <td>910</td>\n",
       "    </tr>\n",
       "    <tr>\n",
       "      <th>talk.politics.mideast</th>\n",
       "      <td>564</td>\n",
       "      <td>376</td>\n",
       "      <td>940</td>\n",
       "    </tr>\n",
       "    <tr>\n",
       "      <th>talk.politics.misc</th>\n",
       "      <td>465</td>\n",
       "      <td>310</td>\n",
       "      <td>775</td>\n",
       "    </tr>\n",
       "    <tr>\n",
       "      <th>talk.religion.misc</th>\n",
       "      <td>377</td>\n",
       "      <td>251</td>\n",
       "      <td>628</td>\n",
       "    </tr>\n",
       "    <tr>\n",
       "      <th>total</th>\n",
       "      <td>11314</td>\n",
       "      <td>7532</td>\n",
       "      <td>18846</td>\n",
       "    </tr>\n",
       "  </tbody>\n",
       "</table>\n",
       "</div>"
      ],
      "text/plain": [
       "                          training set  test set  total\n",
       "alt.atheism                        480       319    799\n",
       "comp.graphics                      584       389    973\n",
       "comp.os.ms-windows.misc            591       394    985\n",
       "comp.sys.ibm.pc.hardware           590       392    982\n",
       "comp.sys.mac.hardware              578       385    963\n",
       "comp.windows.x                     593       395    988\n",
       "misc.forsale                       585       390    975\n",
       "rec.autos                          594       396    990\n",
       "rec.motorcycles                    598       398    996\n",
       "rec.sport.baseball                 597       397    994\n",
       "rec.sport.hockey                   600       399    999\n",
       "sci.crypt                          595       396    991\n",
       "sci.electronics                    591       393    984\n",
       "sci.med                            594       396    990\n",
       "sci.space                          593       394    987\n",
       "soc.religion.christian             599       398    997\n",
       "talk.politics.guns                 546       364    910\n",
       "talk.politics.mideast              564       376    940\n",
       "talk.politics.misc                 465       310    775\n",
       "talk.religion.misc                 377       251    628\n",
       "total                            11314      7532  18846"
      ]
     },
     "execution_count": 4,
     "metadata": {},
     "output_type": "execute_result"
    }
   ],
   "source": [
    "target_df = pd.concat([train_df['target_name'].value_counts(), test_df['target_name'].value_counts()],\n",
    "                      axis=1, keys=['training set', 'test set'], sort=True)\n",
    "target_df['total'] = target_df.sum(axis=1)\n",
    "target_df.loc['total'] = target_df.sum(axis=0)\n",
    "target_df"
   ]
  },
  {
   "cell_type": "code",
   "execution_count": 5,
   "id": "897ca323",
   "metadata": {},
   "outputs": [
    {
     "data": {
      "image/png": "[encoded data removed]",
      "text/plain": [
       "<Figure size 576x288 with 1 Axes>"
      ]
     },
     "metadata": {
      "needs_background": "light"
     },
     "output_type": "display_data"
    }
   ],
   "source": [
    "plot_labels([train_df['target'], test_df['target']], ['train set', 'test set'], news_train.target_names)"
   ]
  },
  {
   "cell_type": "markdown",
   "id": "1ed97bd3",
   "metadata": {},
   "source": [
    "### predictor variable"
   ]
  },
  {
   "cell_type": "markdown",
   "id": "d680d53d",
   "metadata": {},
   "source": [
    "The predictor variable contains texts of newsgroup documents that was posted to each topic.\n",
    "\n",
    "Below is a quick view of selected examples and frequency distribution of number of words for each text."
   ]
  },
  {
   "cell_type": "code",
   "execution_count": 6,
   "id": "53e970c3",
   "metadata": {},
   "outputs": [
    {
     "data": {
      "text/html": [
       "<div>\n",
       "<style scoped>\n",
       "    .dataframe tbody tr th:only-of-type {\n",
       "        vertical-align: middle;\n",
       "    }\n",
       "\n",
       "    .dataframe tbody tr th {\n",
       "        vertical-align: top;\n",
       "    }\n",
       "\n",
       "    .dataframe thead th {\n",
       "        text-align: right;\n",
       "    }\n",
       "</style>\n",
       "<table border=\"1\" class=\"dataframe\">\n",
       "  <thead>\n",
       "    <tr style=\"text-align: right;\">\n",
       "      <th></th>\n",
       "      <th>target</th>\n",
       "      <th>target_name</th>\n",
       "      <th>content</th>\n",
       "    </tr>\n",
       "  </thead>\n",
       "  <tbody>\n",
       "    <tr>\n",
       "      <th>0</th>\n",
       "      <td>7</td>\n",
       "      <td>rec.autos</td>\n",
       "      <td>I was wondering if anyone out there could enlighten me on this car I saw\\nthe other day. It was a 2-door sports car, looked to be from the late 60s/\\nearly 70s. It was called a Bricklin. The doors were really small. In addition,\\nthe front bumper was separate from the rest of the body. This is \\nall I know. If anyone can tellme a model name, engine specs, years\\nof production, where this car is made, history, or whatever info you\\nhave on this funky looking car, please e-mail.</td>\n",
       "    </tr>\n",
       "    <tr>\n",
       "      <th>1</th>\n",
       "      <td>4</td>\n",
       "      <td>comp.sys.mac.hardware</td>\n",
       "      <td>A fair number of brave souls who upgraded their SI clock oscillator have\\nshared their experiences for this poll. Please send a brief message detailing\\nyour experiences with the procedure. Top speed attained, CPU rated speed,\\nadd on cards and adapters, heat sinks, hour of usage per day, floppy disk\\nfunctionality with 800 and 1.4 m floppies are especially requested.\\n\\nI will be summarizing in the next two days, so please add to the network\\nknowledge base if you have done the clock upgrade and haven't answered this\\npoll. Thanks.</td>\n",
       "    </tr>\n",
       "    <tr>\n",
       "      <th>2</th>\n",
       "      <td>4</td>\n",
       "      <td>comp.sys.mac.hardware</td>\n",
       "      <td>well folks, my mac plus finally gave up the ghost this weekend after\\nstarting life as a 512k way back in 1985.  sooo, i'm in the market for a\\nnew machine a bit sooner than i intended to be...\\n\\ni'm looking into picking up a powerbook 160 or maybe 180 and have a bunch\\nof questions that (hopefully) somebody can answer:\\n\\n* does anybody know any dirt on when the next round of powerbook\\nintroductions are expected?  i'd heard the 185c was supposed to make an\\nappearence \"this summer\" but haven't heard anymore on it - and since i\\ndon't have access to macleak, i was wondering if anybody out there had\\nmore info...\\n\\n* has anybody heard rumors about price drops to the powerbook line like the\\nones the duo's just went through recently?\\n\\n* what's the impression of the display on the 180?  i could probably swing\\na 180 if i got the 80Mb disk rather than the 120, but i don't really have\\na feel for how much \"better\" the display is (yea, it looks great in the\\nstore, but is that all \"...</td>\n",
       "    </tr>\n",
       "    <tr>\n",
       "      <th>3</th>\n",
       "      <td>1</td>\n",
       "      <td>comp.graphics</td>\n",
       "      <td>\\nDo you have Weitek's address/phone number?  I'd like to get some information\\nabout this chip.\\n</td>\n",
       "    </tr>\n",
       "    <tr>\n",
       "      <th>4</th>\n",
       "      <td>14</td>\n",
       "      <td>sci.space</td>\n",
       "      <td>From article &lt;C5owCB.n3p@world.std.com&gt;, by tombaker@world.std.com (Tom A Baker):\\n\\n\\nMy understanding is that the 'expected errors' are basically\\nknown bugs in the warning system software - things are checked\\nthat don't have the right values in yet because they aren't\\nset till after launch, and suchlike. Rather than fix the code\\nand possibly introduce new bugs, they just tell the crew\\n'ok, if you see a warning no. 213 before liftoff, ignore it'.</td>\n",
       "    </tr>\n",
       "  </tbody>\n",
       "</table>\n",
       "</div>"
      ],
      "text/plain": [
       "   target            target_name  \\\n",
       "0       7              rec.autos   \n",
       "1       4  comp.sys.mac.hardware   \n",
       "2       4  comp.sys.mac.hardware   \n",
       "3       1          comp.graphics   \n",
       "4      14              sci.space   \n",
       "\n",
       "                                                                                                                                                                                                                                                                                                                                                                                                                                                                                                                                                                                                                                                                                                                                                                                                                                                                                                                                                                                                                                   content  \n",
       "0                                                                                                                                                                                                                                                                                                                                                                                                                                                                                                                                        I was wondering if anyone out there could enlighten me on this car I saw\\nthe other day. It was a 2-door sports car, looked to be from the late 60s/\\nearly 70s. It was called a Bricklin. The doors were really small. In addition,\\nthe front bumper was separate from the rest of the body. This is \\nall I know. If anyone can tellme a model name, engine specs, years\\nof production, where this car is made, history, or whatever info you\\nhave on this funky looking car, please e-mail.  \n",
       "1                                                                                                                                                                                                                                                                                                                                                                                                                                                                               A fair number of brave souls who upgraded their SI clock oscillator have\\nshared their experiences for this poll. Please send a brief message detailing\\nyour experiences with the procedure. Top speed attained, CPU rated speed,\\nadd on cards and adapters, heat sinks, hour of usage per day, floppy disk\\nfunctionality with 800 and 1.4 m floppies are especially requested.\\n\\nI will be summarizing in the next two days, so please add to the network\\nknowledge base if you have done the clock upgrade and haven't answered this\\npoll. Thanks.  \n",
       "2  well folks, my mac plus finally gave up the ghost this weekend after\\nstarting life as a 512k way back in 1985.  sooo, i'm in the market for a\\nnew machine a bit sooner than i intended to be...\\n\\ni'm looking into picking up a powerbook 160 or maybe 180 and have a bunch\\nof questions that (hopefully) somebody can answer:\\n\\n* does anybody know any dirt on when the next round of powerbook\\nintroductions are expected?  i'd heard the 185c was supposed to make an\\nappearence \"this summer\" but haven't heard anymore on it - and since i\\ndon't have access to macleak, i was wondering if anybody out there had\\nmore info...\\n\\n* has anybody heard rumors about price drops to the powerbook line like the\\nones the duo's just went through recently?\\n\\n* what's the impression of the display on the 180?  i could probably swing\\na 180 if i got the 80Mb disk rather than the 120, but i don't really have\\na feel for how much \"better\" the display is (yea, it looks great in the\\nstore, but is that all \"...  \n",
       "3                                                                                                                                                                                                                                                                                                                                                                                                                                                                                                                                                                                                                                                                                                                                                                                                                                                                                                                                       \\nDo you have Weitek's address/phone number?  I'd like to get some information\\nabout this chip.\\n  \n",
       "4                                                                                                                                                                                                                                                                                                                                                                                                                                                                                                                                                                 From article <C5owCB.n3p@world.std.com>, by tombaker@world.std.com (Tom A Baker):\\n\\n\\nMy understanding is that the 'expected errors' are basically\\nknown bugs in the warning system software - things are checked\\nthat don't have the right values in yet because they aren't\\nset till after launch, and suchlike. Rather than fix the code\\nand possibly introduce new bugs, they just tell the crew\\n'ok, if you see a warning no. 213 before liftoff, ignore it'.  "
      ]
     },
     "execution_count": 6,
     "metadata": {},
     "output_type": "execute_result"
    }
   ],
   "source": [
    "train_df.head()"
   ]
  },
  {
   "cell_type": "code",
   "execution_count": 7,
   "id": "3a582e33",
   "metadata": {},
   "outputs": [
    {
     "name": "stdout",
     "output_type": "stream",
     "text": [
      "comp.sys.ibm.pc.hardware\n",
      "\n",
      "\n",
      "If you bought your IDE drive from a dealer, you shouldn 't have to \n",
      "perform a low level format. Even if the 1st HD is already partitioned\n",
      "into C and D, FDISK will automatically assign the 2 nd HD to D and \n",
      "change the 2nd partition of 1st drive to E.\n"
     ]
    }
   ],
   "source": [
    "print(train_df['target_name'][9999])\n",
    "print(train_df['content'][9999])"
   ]
  },
  {
   "cell_type": "code",
   "execution_count": 8,
   "id": "aff706f9",
   "metadata": {},
   "outputs": [
    {
     "data": {
      "image/png": "[encoded data removed]",
      "text/plain": [
       "<Figure size 1152x288 with 2 Axes>"
      ]
     },
     "metadata": {
      "needs_background": "light"
     },
     "output_type": "display_data"
    }
   ],
   "source": [
    "plot_words([train_df['content'], test_df['content']], ['train set', 'test set'])"
   ]
  },
  {
   "cell_type": "markdown",
   "id": "d72dfb73",
   "metadata": {},
   "source": [
    "Statistics of text length in each data set:"
   ]
  },
  {
   "cell_type": "code",
   "execution_count": 9,
   "id": "2295e7db",
   "metadata": {},
   "outputs": [
    {
     "data": {
      "text/html": [
       "<div>\n",
       "<style scoped>\n",
       "    .dataframe tbody tr th:only-of-type {\n",
       "        vertical-align: middle;\n",
       "    }\n",
       "\n",
       "    .dataframe tbody tr th {\n",
       "        vertical-align: top;\n",
       "    }\n",
       "\n",
       "    .dataframe thead th {\n",
       "        text-align: right;\n",
       "    }\n",
       "</style>\n",
       "<table border=\"1\" class=\"dataframe\">\n",
       "  <thead>\n",
       "    <tr style=\"text-align: right;\">\n",
       "      <th></th>\n",
       "      <th>training set</th>\n",
       "      <th>test set</th>\n",
       "    </tr>\n",
       "  </thead>\n",
       "  <tbody>\n",
       "    <tr>\n",
       "      <th>count</th>\n",
       "      <td>11314.000000</td>\n",
       "      <td>7532.000000</td>\n",
       "    </tr>\n",
       "    <tr>\n",
       "      <th>mean</th>\n",
       "      <td>185.827382</td>\n",
       "      <td>175.344397</td>\n",
       "    </tr>\n",
       "    <tr>\n",
       "      <th>std</th>\n",
       "      <td>523.971647</td>\n",
       "      <td>465.226887</td>\n",
       "    </tr>\n",
       "    <tr>\n",
       "      <th>min</th>\n",
       "      <td>0.000000</td>\n",
       "      <td>0.000000</td>\n",
       "    </tr>\n",
       "    <tr>\n",
       "      <th>25%</th>\n",
       "      <td>40.000000</td>\n",
       "      <td>39.000000</td>\n",
       "    </tr>\n",
       "    <tr>\n",
       "      <th>50%</th>\n",
       "      <td>83.000000</td>\n",
       "      <td>82.000000</td>\n",
       "    </tr>\n",
       "    <tr>\n",
       "      <th>75%</th>\n",
       "      <td>167.000000</td>\n",
       "      <td>163.000000</td>\n",
       "    </tr>\n",
       "    <tr>\n",
       "      <th>max</th>\n",
       "      <td>11765.000000</td>\n",
       "      <td>9507.000000</td>\n",
       "    </tr>\n",
       "  </tbody>\n",
       "</table>\n",
       "</div>"
      ],
      "text/plain": [
       "       training set     test set\n",
       "count  11314.000000  7532.000000\n",
       "mean     185.827382   175.344397\n",
       "std      523.971647   465.226887\n",
       "min        0.000000     0.000000\n",
       "25%       40.000000    39.000000\n",
       "50%       83.000000    82.000000\n",
       "75%      167.000000   163.000000\n",
       "max    11765.000000  9507.000000"
      ]
     },
     "execution_count": 9,
     "metadata": {},
     "output_type": "execute_result"
    }
   ],
   "source": [
    "train_df['word_counts'] = word_counts(train_df, 'content')\n",
    "test_df['word_counts'] = word_counts(test_df, 'content')\n",
    "\n",
    "pd.concat([train_df['word_counts'].describe(), test_df['word_counts'].describe()], axis=1,\n",
    "          keys=['training set', 'test set'])"
   ]
  },
  {
   "cell_type": "markdown",
   "id": "b16a45b8",
   "metadata": {},
   "source": [
    "There are some documents where there are no text at all (the number of words is 0).\n",
    "Those rows will be dropped in the next step."
   ]
  },
  {
   "cell_type": "markdown",
   "id": "6cf014b9",
   "metadata": {},
   "source": [
    "## 3. Data preprocessing"
   ]
  },
  {
   "cell_type": "markdown",
   "id": "ca5e0fc3",
   "metadata": {},
   "source": [
    "### cleaning text data"
   ]
  },
  {
   "cell_type": "markdown",
   "id": "249c21f7",
   "metadata": {},
   "source": [
    "Text cleaning includes: normalizing text, removing unicode characters and numbers, removing english stopwords and performing stemming"
   ]
  },
  {
   "cell_type": "code",
   "execution_count": 10,
   "id": "1b8c40df",
   "metadata": {},
   "outputs": [],
   "source": [
    "train_df['cleaned_content'] = clean_text(train_df['content'], stopwords.words('english'))\n",
    "test_df['cleaned_content'] = clean_text(test_df['content'], stopwords.words('english'))"
   ]
  },
  {
   "cell_type": "code",
   "execution_count": 11,
   "id": "9c1ce2f9",
   "metadata": {},
   "outputs": [
    {
     "data": {
      "text/html": [
       "<div>\n",
       "<style scoped>\n",
       "    .dataframe tbody tr th:only-of-type {\n",
       "        vertical-align: middle;\n",
       "    }\n",
       "\n",
       "    .dataframe tbody tr th {\n",
       "        vertical-align: top;\n",
       "    }\n",
       "\n",
       "    .dataframe thead th {\n",
       "        text-align: right;\n",
       "    }\n",
       "</style>\n",
       "<table border=\"1\" class=\"dataframe\">\n",
       "  <thead>\n",
       "    <tr style=\"text-align: right;\">\n",
       "      <th></th>\n",
       "      <th>target</th>\n",
       "      <th>target_name</th>\n",
       "      <th>content</th>\n",
       "      <th>word_counts</th>\n",
       "      <th>cleaned_content</th>\n",
       "    </tr>\n",
       "  </thead>\n",
       "  <tbody>\n",
       "    <tr>\n",
       "      <th>0</th>\n",
       "      <td>7</td>\n",
       "      <td>rec.autos</td>\n",
       "      <td>I was wondering if anyone out there could enlighten me on this car I saw\\nthe other day. It was a 2-door sports car, looked to be from the late 60s/\\nearly 70s. It was called a Bricklin. The doors were really small. In addition,\\nthe front bumper was separate from the rest of the body. This is \\nall I know. If anyone can tellme a model name, engine specs, years\\nof production, where this car is made, history, or whatever info you\\nhave on this funky looking car, please e-mail.</td>\n",
       "      <td>91</td>\n",
       "      <td>i wonder anyon could enlighten car i saw day it door sport car look late earli it call bricklin the door realli small in addit front bumper separ rest bodi thi i know if anyon tellm model name engin spec year product car made histori whatev info funki look car pleas e mail</td>\n",
       "    </tr>\n",
       "    <tr>\n",
       "      <th>1</th>\n",
       "      <td>4</td>\n",
       "      <td>comp.sys.mac.hardware</td>\n",
       "      <td>A fair number of brave souls who upgraded their SI clock oscillator have\\nshared their experiences for this poll. Please send a brief message detailing\\nyour experiences with the procedure. Top speed attained, CPU rated speed,\\nadd on cards and adapters, heat sinks, hour of usage per day, floppy disk\\nfunctionality with 800 and 1.4 m floppies are especially requested.\\n\\nI will be summarizing in the next two days, so please add to the network\\nknowledge base if you have done the clock upgrade and haven't answered this\\npoll. Thanks.</td>\n",
       "      <td>90</td>\n",
       "      <td>a fair number brave soul upgrad si clock oscil share experi poll pleas send brief messag detail experi procedur top speed attain cpu rate speed add card adapt heat sink hour usag per day floppi disk function floppi especi request i summar next two day pleas add network knowledg base done clock upgrad answer poll thank</td>\n",
       "    </tr>\n",
       "    <tr>\n",
       "      <th>2</th>\n",
       "      <td>4</td>\n",
       "      <td>comp.sys.mac.hardware</td>\n",
       "      <td>well folks, my mac plus finally gave up the ghost this weekend after\\nstarting life as a 512k way back in 1985.  sooo, i'm in the market for a\\nnew machine a bit sooner than i intended to be...\\n\\ni'm looking into picking up a powerbook 160 or maybe 180 and have a bunch\\nof questions that (hopefully) somebody can answer:\\n\\n* does anybody know any dirt on when the next round of powerbook\\nintroductions are expected?  i'd heard the 185c was supposed to make an\\nappearence \"this summer\" but haven't heard anymore on it - and since i\\ndon't have access to macleak, i was wondering if anybody out there had\\nmore info...\\n\\n* has anybody heard rumors about price drops to the powerbook line like the\\nones the duo's just went through recently?\\n\\n* what's the impression of the display on the 180?  i could probably swing\\na 180 if i got the 80Mb disk rather than the 120, but i don't really have\\na feel for how much \"better\" the display is (yea, it looks great in the\\nstore, but is that all \"...</td>\n",
       "      <td>307</td>\n",
       "      <td>well folk mac plu final gave ghost weekend start life k way back sooo market new machin bit sooner intend look pick powerbook mayb bunch question hope somebodi answer anybodi know dirt next round powerbook introduct expect heard c suppos make appear summer heard anymor sinc access macleak wonder anybodi info anybodi heard rumor price drop powerbook line like one duo went recent impress display could probabl swing got mb disk rather realli feel much better display yea look great store wow realli good could solicit opinion peopl use day day worth take disk size money hit get activ display realiz real subject question play around machin comput store breifli figur opinion somebodi actual use machin daili might prove help well hellcat perform thank bunch advanc info could email post summari news read time premium final around corner tom willi twilli ecn purdu edu purdu electr engin</td>\n",
       "    </tr>\n",
       "  </tbody>\n",
       "</table>\n",
       "</div>"
      ],
      "text/plain": [
       "   target            target_name  \\\n",
       "0       7              rec.autos   \n",
       "1       4  comp.sys.mac.hardware   \n",
       "2       4  comp.sys.mac.hardware   \n",
       "\n",
       "                                                                                                                                                                                                                                                                                                                                                                                                                                                                                                                                                                                                                                                                                                                                                                                                                                                                                                                                                                                                                                   content  \\\n",
       "0                                                                                                                                                                                                                                                                                                                                                                                                                                                                                                                                        I was wondering if anyone out there could enlighten me on this car I saw\\nthe other day. It was a 2-door sports car, looked to be from the late 60s/\\nearly 70s. It was called a Bricklin. The doors were really small. In addition,\\nthe front bumper was separate from the rest of the body. This is \\nall I know. If anyone can tellme a model name, engine specs, years\\nof production, where this car is made, history, or whatever info you\\nhave on this funky looking car, please e-mail.   \n",
       "1                                                                                                                                                                                                                                                                                                                                                                                                                                                                               A fair number of brave souls who upgraded their SI clock oscillator have\\nshared their experiences for this poll. Please send a brief message detailing\\nyour experiences with the procedure. Top speed attained, CPU rated speed,\\nadd on cards and adapters, heat sinks, hour of usage per day, floppy disk\\nfunctionality with 800 and 1.4 m floppies are especially requested.\\n\\nI will be summarizing in the next two days, so please add to the network\\nknowledge base if you have done the clock upgrade and haven't answered this\\npoll. Thanks.   \n",
       "2  well folks, my mac plus finally gave up the ghost this weekend after\\nstarting life as a 512k way back in 1985.  sooo, i'm in the market for a\\nnew machine a bit sooner than i intended to be...\\n\\ni'm looking into picking up a powerbook 160 or maybe 180 and have a bunch\\nof questions that (hopefully) somebody can answer:\\n\\n* does anybody know any dirt on when the next round of powerbook\\nintroductions are expected?  i'd heard the 185c was supposed to make an\\nappearence \"this summer\" but haven't heard anymore on it - and since i\\ndon't have access to macleak, i was wondering if anybody out there had\\nmore info...\\n\\n* has anybody heard rumors about price drops to the powerbook line like the\\nones the duo's just went through recently?\\n\\n* what's the impression of the display on the 180?  i could probably swing\\na 180 if i got the 80Mb disk rather than the 120, but i don't really have\\na feel for how much \"better\" the display is (yea, it looks great in the\\nstore, but is that all \"...   \n",
       "\n",
       "   word_counts  \\\n",
       "0           91   \n",
       "1           90   \n",
       "2          307   \n",
       "\n",
       "                                                                                                                                                                                                                                                                                                                                                                                                                                                                                                                                                                                                                                                                                                                                                                                                                                                                                                             cleaned_content  \n",
       "0                                                                                                                                                                                                                                                                                                                                                                                                                                                                                                                                                                                                                                          i wonder anyon could enlighten car i saw day it door sport car look late earli it call bricklin the door realli small in addit front bumper separ rest bodi thi i know if anyon tellm model name engin spec year product car made histori whatev info funki look car pleas e mail  \n",
       "1                                                                                                                                                                                                                                                                                                                                                                                                                                                                                                                                                                                            a fair number brave soul upgrad si clock oscil share experi poll pleas send brief messag detail experi procedur top speed attain cpu rate speed add card adapt heat sink hour usag per day floppi disk function floppi especi request i summar next two day pleas add network knowledg base done clock upgrad answer poll thank  \n",
       "2  well folk mac plu final gave ghost weekend start life k way back sooo market new machin bit sooner intend look pick powerbook mayb bunch question hope somebodi answer anybodi know dirt next round powerbook introduct expect heard c suppos make appear summer heard anymor sinc access macleak wonder anybodi info anybodi heard rumor price drop powerbook line like one duo went recent impress display could probabl swing got mb disk rather realli feel much better display yea look great store wow realli good could solicit opinion peopl use day day worth take disk size money hit get activ display realiz real subject question play around machin comput store breifli figur opinion somebodi actual use machin daili might prove help well hellcat perform thank bunch advanc info could email post summari news read time premium final around corner tom willi twilli ecn purdu edu purdu electr engin  "
      ]
     },
     "execution_count": 11,
     "metadata": {},
     "output_type": "execute_result"
    }
   ],
   "source": [
    "train_df.head(3)"
   ]
  },
  {
   "cell_type": "markdown",
   "id": "bc8a0202",
   "metadata": {},
   "source": [
    "### removing documents without text"
   ]
  },
  {
   "cell_type": "code",
   "execution_count": 12,
   "id": "b4c2e27e",
   "metadata": {},
   "outputs": [],
   "source": [
    "train_df['cleaned_word_counts'] = word_counts(train_df, 'cleaned_content')\n",
    "test_df['cleaned_word_counts'] = word_counts(test_df, 'cleaned_content')"
   ]
  },
  {
   "cell_type": "code",
   "execution_count": 13,
   "id": "fed1adef",
   "metadata": {},
   "outputs": [
    {
     "data": {
      "text/html": [
       "<div>\n",
       "<style scoped>\n",
       "    .dataframe tbody tr th:only-of-type {\n",
       "        vertical-align: middle;\n",
       "    }\n",
       "\n",
       "    .dataframe tbody tr th {\n",
       "        vertical-align: top;\n",
       "    }\n",
       "\n",
       "    .dataframe thead th {\n",
       "        text-align: right;\n",
       "    }\n",
       "</style>\n",
       "<table border=\"1\" class=\"dataframe\">\n",
       "  <thead>\n",
       "    <tr style=\"text-align: right;\">\n",
       "      <th></th>\n",
       "      <th>target</th>\n",
       "      <th>target_name</th>\n",
       "      <th>content</th>\n",
       "      <th>word_counts</th>\n",
       "      <th>cleaned_content</th>\n",
       "      <th>cleaned_word_counts</th>\n",
       "    </tr>\n",
       "  </thead>\n",
       "  <tbody>\n",
       "    <tr>\n",
       "      <th>12</th>\n",
       "      <td>4</td>\n",
       "      <td>comp.sys.mac.hardware</td>\n",
       "      <td>--\\n</td>\n",
       "      <td>1</td>\n",
       "      <td></td>\n",
       "      <td>0</td>\n",
       "    </tr>\n",
       "    <tr>\n",
       "      <th>155</th>\n",
       "      <td>4</td>\n",
       "      <td>comp.sys.mac.hardware</td>\n",
       "      <td></td>\n",
       "      <td>0</td>\n",
       "      <td></td>\n",
       "      <td>0</td>\n",
       "    </tr>\n",
       "    <tr>\n",
       "      <th>164</th>\n",
       "      <td>9</td>\n",
       "      <td>rec.sport.baseball</td>\n",
       "      <td></td>\n",
       "      <td>0</td>\n",
       "      <td></td>\n",
       "      <td>0</td>\n",
       "    </tr>\n",
       "    <tr>\n",
       "      <th>171</th>\n",
       "      <td>1</td>\n",
       "      <td>comp.graphics</td>\n",
       "      <td></td>\n",
       "      <td>0</td>\n",
       "      <td></td>\n",
       "      <td>0</td>\n",
       "    </tr>\n",
       "    <tr>\n",
       "      <th>205</th>\n",
       "      <td>14</td>\n",
       "      <td>sci.space</td>\n",
       "      <td></td>\n",
       "      <td>0</td>\n",
       "      <td></td>\n",
       "      <td>0</td>\n",
       "    </tr>\n",
       "    <tr>\n",
       "      <th>...</th>\n",
       "      <td>...</td>\n",
       "      <td>...</td>\n",
       "      <td>...</td>\n",
       "      <td>...</td>\n",
       "      <td>...</td>\n",
       "      <td>...</td>\n",
       "    </tr>\n",
       "    <tr>\n",
       "      <th>11058</th>\n",
       "      <td>5</td>\n",
       "      <td>comp.windows.x</td>\n",
       "      <td></td>\n",
       "      <td>0</td>\n",
       "      <td></td>\n",
       "      <td>0</td>\n",
       "    </tr>\n",
       "    <tr>\n",
       "      <th>11079</th>\n",
       "      <td>14</td>\n",
       "      <td>sci.space</td>\n",
       "      <td></td>\n",
       "      <td>0</td>\n",
       "      <td></td>\n",
       "      <td>0</td>\n",
       "    </tr>\n",
       "    <tr>\n",
       "      <th>11238</th>\n",
       "      <td>7</td>\n",
       "      <td>rec.autos</td>\n",
       "      <td></td>\n",
       "      <td>0</td>\n",
       "      <td></td>\n",
       "      <td>0</td>\n",
       "    </tr>\n",
       "    <tr>\n",
       "      <th>11304</th>\n",
       "      <td>19</td>\n",
       "      <td>talk.religion.misc</td>\n",
       "      <td></td>\n",
       "      <td>0</td>\n",
       "      <td></td>\n",
       "      <td>0</td>\n",
       "    </tr>\n",
       "    <tr>\n",
       "      <th>11306</th>\n",
       "      <td>3</td>\n",
       "      <td>comp.sys.ibm.pc.hardware</td>\n",
       "      <td></td>\n",
       "      <td>0</td>\n",
       "      <td></td>\n",
       "      <td>0</td>\n",
       "    </tr>\n",
       "  </tbody>\n",
       "</table>\n",
       "<p>312 rows × 6 columns</p>\n",
       "</div>"
      ],
      "text/plain": [
       "       target               target_name content  word_counts cleaned_content  \\\n",
       "12          4     comp.sys.mac.hardware    --\\n            1                   \n",
       "155         4     comp.sys.mac.hardware                    0                   \n",
       "164         9        rec.sport.baseball                    0                   \n",
       "171         1             comp.graphics                    0                   \n",
       "205        14                 sci.space                    0                   \n",
       "...       ...                       ...     ...          ...             ...   \n",
       "11058       5            comp.windows.x                    0                   \n",
       "11079      14                 sci.space                    0                   \n",
       "11238       7                 rec.autos                    0                   \n",
       "11304      19        talk.religion.misc                    0                   \n",
       "11306       3  comp.sys.ibm.pc.hardware                    0                   \n",
       "\n",
       "       cleaned_word_counts  \n",
       "12                       0  \n",
       "155                      0  \n",
       "164                      0  \n",
       "171                      0  \n",
       "205                      0  \n",
       "...                    ...  \n",
       "11058                    0  \n",
       "11079                    0  \n",
       "11238                    0  \n",
       "11304                    0  \n",
       "11306                    0  \n",
       "\n",
       "[312 rows x 6 columns]"
      ]
     },
     "execution_count": 13,
     "metadata": {},
     "output_type": "execute_result"
    }
   ],
   "source": [
    "train_df[train_df['cleaned_word_counts']==0]"
   ]
  },
  {
   "cell_type": "code",
   "execution_count": 14,
   "id": "923ec851",
   "metadata": {},
   "outputs": [
    {
     "name": "stdout",
     "output_type": "stream",
     "text": [
      "number of empty documents in train set: 312\n",
      "number of empty documents in test  set: 226\n"
     ]
    }
   ],
   "source": [
    "print('number of empty documents in train set:', len(train_df[train_df['cleaned_word_counts']==0]))\n",
    "print('number of empty documents in test  set:', len(test_df[test_df['cleaned_word_counts']==0]))"
   ]
  },
  {
   "cell_type": "code",
   "execution_count": 15,
   "id": "1e88e453",
   "metadata": {},
   "outputs": [],
   "source": [
    "train_df = drop_empty(train_df, 'cleaned_word_counts')\n",
    "test_df = drop_empty(test_df, 'cleaned_word_counts')"
   ]
  },
  {
   "cell_type": "markdown",
   "id": "f3747c26",
   "metadata": {},
   "source": [
    "Statistics of text length in each data set after cleaning and removing empty documents:"
   ]
  },
  {
   "cell_type": "code",
   "execution_count": 16,
   "id": "11cc3ecd",
   "metadata": {},
   "outputs": [
    {
     "data": {
      "text/html": [
       "<div>\n",
       "<style scoped>\n",
       "    .dataframe tbody tr th:only-of-type {\n",
       "        vertical-align: middle;\n",
       "    }\n",
       "\n",
       "    .dataframe tbody tr th {\n",
       "        vertical-align: top;\n",
       "    }\n",
       "\n",
       "    .dataframe thead th {\n",
       "        text-align: right;\n",
       "    }\n",
       "</style>\n",
       "<table border=\"1\" class=\"dataframe\">\n",
       "  <thead>\n",
       "    <tr style=\"text-align: right;\">\n",
       "      <th></th>\n",
       "      <th>training set</th>\n",
       "      <th>test set</th>\n",
       "    </tr>\n",
       "  </thead>\n",
       "  <tbody>\n",
       "    <tr>\n",
       "      <th>count</th>\n",
       "      <td>11002.000000</td>\n",
       "      <td>7306.000000</td>\n",
       "    </tr>\n",
       "    <tr>\n",
       "      <th>mean</th>\n",
       "      <td>133.955917</td>\n",
       "      <td>112.460170</td>\n",
       "    </tr>\n",
       "    <tr>\n",
       "      <th>std</th>\n",
       "      <td>642.222159</td>\n",
       "      <td>553.521884</td>\n",
       "    </tr>\n",
       "    <tr>\n",
       "      <th>min</th>\n",
       "      <td>1.000000</td>\n",
       "      <td>1.000000</td>\n",
       "    </tr>\n",
       "    <tr>\n",
       "      <th>25%</th>\n",
       "      <td>26.000000</td>\n",
       "      <td>25.000000</td>\n",
       "    </tr>\n",
       "    <tr>\n",
       "      <th>50%</th>\n",
       "      <td>51.000000</td>\n",
       "      <td>50.000000</td>\n",
       "    </tr>\n",
       "    <tr>\n",
       "      <th>75%</th>\n",
       "      <td>99.000000</td>\n",
       "      <td>96.000000</td>\n",
       "    </tr>\n",
       "    <tr>\n",
       "      <th>max</th>\n",
       "      <td>15494.000000</td>\n",
       "      <td>38583.000000</td>\n",
       "    </tr>\n",
       "  </tbody>\n",
       "</table>\n",
       "</div>"
      ],
      "text/plain": [
       "       training set      test set\n",
       "count  11002.000000   7306.000000\n",
       "mean     133.955917    112.460170\n",
       "std      642.222159    553.521884\n",
       "min        1.000000      1.000000\n",
       "25%       26.000000     25.000000\n",
       "50%       51.000000     50.000000\n",
       "75%       99.000000     96.000000\n",
       "max    15494.000000  38583.000000"
      ]
     },
     "execution_count": 16,
     "metadata": {},
     "output_type": "execute_result"
    }
   ],
   "source": [
    "pd.concat([train_df['cleaned_word_counts'].describe(), test_df['cleaned_word_counts'].describe()], axis=1,\n",
    "          keys=['training set', 'test set'])"
   ]
  },
  {
   "cell_type": "markdown",
   "id": "693f4bda",
   "metadata": {},
   "source": [
    "## 4. Creating x and y variables"
   ]
  },
  {
   "cell_type": "code",
   "execution_count": 17,
   "id": "a369582e",
   "metadata": {},
   "outputs": [],
   "source": [
    "x_train = train_df['cleaned_content']\n",
    "x_test = test_df['cleaned_content']\n",
    "y_train = train_df['target']\n",
    "y_test = test_df['target']"
   ]
  },
  {
   "cell_type": "code",
   "execution_count": 18,
   "id": "845a2c2e",
   "metadata": {},
   "outputs": [
    {
     "data": {
      "text/plain": [
       "((11002,), (11002,))"
      ]
     },
     "execution_count": 18,
     "metadata": {},
     "output_type": "execute_result"
    }
   ],
   "source": [
    "x_train.shape, y_train.shape"
   ]
  },
  {
   "cell_type": "markdown",
   "id": "a454ec7c",
   "metadata": {},
   "source": [
    "### preparing data for machine learning models: tf-idf vectorizer"
   ]
  },
  {
   "cell_type": "code",
   "execution_count": 19,
   "id": "0e1165f7",
   "metadata": {},
   "outputs": [],
   "source": [
    "tfidf_vectorizer = TfidfVectorizer(max_df=0.5, min_df=5, ngram_range = (1,2))\n",
    "\n",
    "x_train_tfidf = tfidf_vectorizer.fit_transform(x_train).todense()\n",
    "x_test_tfidf = tfidf_vectorizer.transform(x_test).todense()"
   ]
  },
  {
   "cell_type": "markdown",
   "id": "8d3bdb4f",
   "metadata": {},
   "source": [
    "### balance the dataset"
   ]
  },
  {
   "cell_type": "code",
   "execution_count": 20,
   "id": "f9385543",
   "metadata": {},
   "outputs": [
    {
     "data": {
      "image/png": "[encoded data removed]",
      "text/plain": [
       "<Figure size 576x288 with 1 Axes>"
      ]
     },
     "metadata": {
      "needs_background": "light"
     },
     "output_type": "display_data"
    }
   ],
   "source": [
    "smote = SMOTE(random_state = RANDOM_STATE)\n",
    "x_train_smote, y_train_smote = smote.fit_resample(x_train_tfidf, y_train)\n",
    "plot_labels([y_train_smote, y_test], ['train set', 'test_set'], news_train.target_names)"
   ]
  },
  {
   "cell_type": "markdown",
   "id": "3ee55b6a",
   "metadata": {},
   "source": [
    "### preparing data for machine learning models: splitting data to train and validation set"
   ]
  },
  {
   "cell_type": "code",
   "execution_count": 21,
   "id": "4f00f63a",
   "metadata": {},
   "outputs": [],
   "source": [
    "y_train_ohs = to_categorical(y_train_smote, num_classes=num_classes)\n",
    "x_train_nn, x_valid_nn, y_train_nn, y_valid_nn = train_test_split(x_train_smote, y_train_ohs,\n",
    "                                                                  test_size=0.2,\n",
    "                                                                  random_state=RANDOM_STATE,\n",
    "                                                                  stratify=y_train_ohs)"
   ]
  },
  {
   "cell_type": "markdown",
   "id": "49a3f66b",
   "metadata": {},
   "source": [
    "### preparing data for RNN: data tokenization"
   ]
  },
  {
   "cell_type": "markdown",
   "id": "85353c78",
   "metadata": {},
   "source": [
    "In order to create RNN model there is need to do tokenization (generate sequence of n-grams) and padding (make all the documents have same length)\n",
    "\n",
    "Size of vocabulary is set to 15 000 most common words.\n",
    "\n",
    "Content length is set to 500 words (for speed purposes).\n"
   ]
  },
  {
   "cell_type": "code",
   "execution_count": 22,
   "id": "c382b7dd",
   "metadata": {},
   "outputs": [],
   "source": [
    "num_words = 15000\n",
    "maxlen = 500\n",
    "\n",
    "tokenizer = Tokenizer(num_words=num_words)\n",
    "tokenizer.fit_on_texts(x_train)\n",
    "\n",
    "x_train_tk = tokenizer.texts_to_sequences(x_train)\n",
    "x_train_tk = pad_sequences(x_train_tk, maxlen=maxlen)\n",
    "\n",
    "x_test_tk  = tokenizer.texts_to_sequences(x_test)\n",
    "x_test_tk  = pad_sequences(x_test_tk, maxlen=maxlen)"
   ]
  },
  {
   "cell_type": "code",
   "execution_count": 23,
   "id": "c9fa0352",
   "metadata": {},
   "outputs": [
    {
     "name": "stdout",
     "output_type": "stream",
     "text": [
      "number of unique words: 55522\n"
     ]
    }
   ],
   "source": [
    "word_index = tokenizer.word_index\n",
    "print('number of unique words:', len(word_index))"
   ]
  },
  {
   "cell_type": "markdown",
   "id": "5e0a95fd",
   "metadata": {},
   "source": [
    "Content is now converted to sequences of numbers with equal length"
   ]
  },
  {
   "cell_type": "code",
   "execution_count": 24,
   "id": "f9620800",
   "metadata": {},
   "outputs": [
    {
     "name": "stdout",
     "output_type": "stream",
     "text": [
      "length: 500\n",
      "[    0     0     0     0     0     0     0     0     0     0     0     0\n",
      "     0     0     0     0     0     0     0     0     0     0     0     0\n",
      "     0     0     0     0     0     0     0     0     0     0     0     0\n",
      "     0     0     0     0     0     0     0     0     0     0     0     0\n",
      "     0     0     0     0     0     0     0     0     0     0     0     0\n",
      "     0     0     0     0     0     0     0     0     0     0     0     0\n",
      "     0     0     0     0     0     0     0     0     0     0     0     0\n",
      "     0     0     0     0     0     0     0     0     0     0     0     0\n",
      "     0     0     0     0     0     0     0     0     0     0     0     0\n",
      "     0     0     0     0     0     0     0     0     0     0     0     0\n",
      "     0     0     0     0     0     0     0     0     0     0     0     0\n",
      "     0     0     0     0     0     0     0     0     0     0     0     0\n",
      "     0     0     0     0     0     0     0     0     0     0     0     0\n",
      "     0     0     0     0     0     0     0     0     0     0     0     0\n",
      "     0     0     0     0     0     0     0     0     0     0     0     0\n",
      "     0     0     0     0     0     0     0     0     0     0     0     0\n",
      "     0     0     0     0     0     0     0     0     0     0     0     0\n",
      "     0     0     0     0     0     0     0     0     0     0     0     0\n",
      "     0     0     0     0     0     0     0     0     0     0     0     0\n",
      "     0     0     0     0     0     0     0     0     0     0     0     0\n",
      "     0     0     0     0     0     0     0     0     0     0     0     0\n",
      "     0     0     0     0     0     0     0     0     0     0     0     0\n",
      "     0     0     0     0     0     0     0     0     0     0     0     0\n",
      "     0     0     0     0     0     0     0     0     0     0     0     0\n",
      "     0     0     0     0     0     0     0     0     0     0     0     0\n",
      "     0     0     0     0     0     0     0     0     0     0     0     0\n",
      "     0     0     0     0     0     0     0     0     0     0     0     0\n",
      "     0     0     0     0     0     0     0     0     0     0     0     0\n",
      "     0     0     0     0     0     0     0     0     0     0     0     0\n",
      "     0     0     0     0     0     0     0     0     0     0     0     0\n",
      "     0     0     0     0     0     0     0     0     0     0     0     0\n",
      "     0     0     0     0     0     0     0     0     0     0     0     0\n",
      "     0     0     0     0     0     0     0     0     0     0     0     0\n",
      "     0     0     0     0     0     0     0     0     0     0     0     0\n",
      "     0     0     0     0     0     0     0     0     0     0     0     0\n",
      "     0     0     0     0     0     0     0     0     0     0     0     0\n",
      "     0     0     0     0     0     0     0     0     0     0     0     0\n",
      "     0     0     0     0     0     2   503    99    51  4977   178     2\n",
      "   589   114    25   998  1304   178    60  1025   783    25    77     3\n",
      "   998   119   390    53   515   800  5081   883   685   489    38     2\n",
      "    32    33    99   370   122   381  1698    45   386   178   153   518\n",
      "   752   308 11786    60   178   106    24   116]\n"
     ]
    }
   ],
   "source": [
    "print('length:', len(x_train_tk[0]))\n",
    "print(x_train_tk[0])"
   ]
  },
  {
   "cell_type": "markdown",
   "id": "b3da9b6e",
   "metadata": {},
   "source": [
    "### balance the dataset"
   ]
  },
  {
   "cell_type": "code",
   "execution_count": 25,
   "id": "ca7c7f23",
   "metadata": {},
   "outputs": [
    {
     "data": {
      "image/png": "[encoded data removed]",
      "text/plain": [
       "<Figure size 576x288 with 1 Axes>"
      ]
     },
     "metadata": {
      "needs_background": "light"
     },
     "output_type": "display_data"
    }
   ],
   "source": [
    "smote = SMOTE(random_state = RANDOM_STATE)\n",
    "x_train_tks, y_train_s = smote.fit_resample(x_train_tk, y_train)\n",
    "plot_labels([y_train_s, y_test], ['train set', 'test_set'], news_train.target_names)"
   ]
  },
  {
   "cell_type": "markdown",
   "id": "a1ed386e",
   "metadata": {},
   "source": [
    "### preparing data for RNN: one hot encoding"
   ]
  },
  {
   "cell_type": "code",
   "execution_count": 26,
   "id": "632c2ddb",
   "metadata": {},
   "outputs": [],
   "source": [
    "y_train_oh = to_categorical(y_train_s, num_classes=num_classes)\n",
    "y_test_oh = to_categorical(y_test, num_classes=num_classes)"
   ]
  },
  {
   "cell_type": "markdown",
   "id": "4f0f139b",
   "metadata": {},
   "source": [
    "### preparing data for RNN: splitting data to train and validation set"
   ]
  },
  {
   "cell_type": "code",
   "execution_count": 27,
   "id": "bd37408f",
   "metadata": {},
   "outputs": [],
   "source": [
    "x_train_rnn, x_valid_rnn, y_train_rnn, y_valid_rnn = train_test_split(x_train_tks, y_train_oh,\n",
    "                                                                      test_size=0.2,\n",
    "                                                                      random_state=RANDOM_STATE,\n",
    "                                                                      stratify=y_train_oh)"
   ]
  },
  {
   "cell_type": "markdown",
   "id": "a6221b08",
   "metadata": {},
   "source": [
    "There is difference between data prepared for machine learning models like e.g. logistic regression and recurrent neural network models so in order to avoid confusion names of variables was changed"
   ]
  },
  {
   "cell_type": "code",
   "execution_count": 28,
   "id": "9380f33a",
   "metadata": {},
   "outputs": [],
   "source": [
    "x_train_ml, y_train_ml = x_train_smote, y_train_smote\n",
    "x_test_ml, y_test_ml = x_test_tfidf, y_test\n",
    "x_test_rnn, y_test_rnn = x_test_tk, y_test_oh"
   ]
  },
  {
   "cell_type": "code",
   "execution_count": 29,
   "id": "539896c5",
   "metadata": {},
   "outputs": [
    {
     "name": "stdout",
     "output_type": "stream",
     "text": [
      "ml train dataset shape: (11800, 32220) (11800,)\n",
      "ml test  dataset shape: (7306, 32220) (7306,)\n",
      "rnn train dataset shape: (9440, 500) (9440, 20)\n",
      "rnn valid dataset shape:  (2360, 500) (2360, 20)\n",
      "rnn test  dataset shape:  (7306, 500) (7306, 20)\n"
     ]
    }
   ],
   "source": [
    "print('ml train dataset shape:', x_train_ml.shape, y_train_ml.shape)\n",
    "print('ml test  dataset shape:', x_test_ml.shape, y_test_ml.shape)\n",
    "print('rnn train dataset shape:', x_train_rnn.shape, y_train_rnn.shape)\n",
    "print('rnn valid dataset shape: ', x_valid_rnn.shape, y_valid_rnn.shape)\n",
    "print('rnn test  dataset shape: ', x_test_rnn.shape, y_test_rnn.shape)"
   ]
  },
  {
   "cell_type": "markdown",
   "id": "bda4c098",
   "metadata": {},
   "source": [
    "## 5. Embeddings"
   ]
  },
  {
   "cell_type": "markdown",
   "id": "7a30f18c",
   "metadata": {},
   "source": [
    "### gensim word2vec model"
   ]
  },
  {
   "cell_type": "code",
   "execution_count": 30,
   "id": "92078827",
   "metadata": {},
   "outputs": [],
   "source": [
    "embedding_dim = 100\n",
    "vocabulary_size = min(num_words, len(word_index))"
   ]
  },
  {
   "cell_type": "markdown",
   "id": "d61b7e7c",
   "metadata": {},
   "source": [
    "Training word2vec model based on train data:"
   ]
  },
  {
   "cell_type": "code",
   "execution_count": 31,
   "id": "f426e807",
   "metadata": {},
   "outputs": [],
   "source": [
    "neighbor_words_num = 6\n",
    "epochs = 100\n",
    "\n",
    "sentences = [x.split() for x in x_train]\n",
    "w2v_model = Word2Vec(sentences,\n",
    "                     vector_size=embedding_dim,\n",
    "                     window=neighbor_words_num,\n",
    "                     epochs=epochs,\n",
    "                     min_count=1,\n",
    "                     sg=1)"
   ]
  },
  {
   "cell_type": "code",
   "execution_count": 32,
   "id": "389ac2a4",
   "metadata": {},
   "outputs": [
    {
     "name": "stdout",
     "output_type": "stream",
     "text": [
      "model saved\n"
     ]
    }
   ],
   "source": [
    "w2v_model.save(\"w2v_model.model\")\n",
    "print('model saved')\n",
    "# w2v_model = Word2Vec.load('w2v_model.model')\n",
    "# print('model loaded')"
   ]
  },
  {
   "cell_type": "markdown",
   "id": "d6b006a7",
   "metadata": {},
   "source": [
    "Visualizing word embeddings using t-sne to see similarity between objects:"
   ]
  },
  {
   "cell_type": "code",
   "execution_count": 33,
   "id": "7272b269",
   "metadata": {},
   "outputs": [
    {
     "data": {
      "image/png": "[encoded data removed]",
      "text/plain": [
       "<Figure size 432x288 with 1 Axes>"
      ]
     },
     "metadata": {
      "needs_background": "light"
     },
     "output_type": "display_data"
    }
   ],
   "source": [
    "tsne_word_plot(w2v_model, 'window', embedding_dim)"
   ]
  },
  {
   "cell_type": "markdown",
   "id": "a5715052",
   "metadata": {},
   "source": [
    "Creating the embedding layer:"
   ]
  },
  {
   "cell_type": "code",
   "execution_count": 34,
   "id": "71b7cd73",
   "metadata": {},
   "outputs": [],
   "source": [
    "embedding_matrix = np.zeros((vocabulary_size, embedding_dim))\n",
    "for word, index in word_index.items():\n",
    "    if index > vocabulary_size:\n",
    "        continue\n",
    "    elif word in w2v_model.wv:\n",
    "        embedding_matrix[index-1] = w2v_model.wv[word]"
   ]
  },
  {
   "cell_type": "code",
   "execution_count": 35,
   "id": "dac2f301",
   "metadata": {},
   "outputs": [
    {
     "data": {
      "text/plain": [
       "array([-0.14130524, -0.3351602 ,  0.07343651,  0.13777043, -0.79080981,\n",
       "       -0.09989693,  0.08482552,  0.16490927,  0.58801097,  0.39631093,\n",
       "        0.15735365, -0.45571053, -0.61874527,  0.289     , -0.59302074,\n",
       "       -0.87221068, -0.84416175,  0.12663558,  0.96405905,  0.17455287,\n",
       "        0.02495161,  0.66226256,  0.41279903,  1.3103981 ,  0.43521395,\n",
       "       -0.41188937, -0.42045727,  0.92221677,  0.65001357,  0.49539942,\n",
       "        0.12141994,  0.25506851,  0.49200073, -0.60792136,  0.08814327,\n",
       "        0.93585503, -0.05491179, -0.59432596,  0.72961807, -0.39651692,\n",
       "       -0.86499256,  1.08457744,  0.11974362, -0.61094874,  0.58546203,\n",
       "        0.30458286,  0.1936326 ,  0.34589276,  0.34792048,  0.0435791 ,\n",
       "       -0.40658712, -0.17921995,  0.22556537, -0.55352396,  0.37481502,\n",
       "       -0.76734632,  1.0374645 , -0.8502472 , -0.64049202,  0.79527873,\n",
       "       -0.43143967, -0.32110059, -0.17861241,  0.23307492, -0.06783054,\n",
       "        0.65084976, -0.52073896,  0.06316039,  0.39068636,  0.11868829,\n",
       "       -0.65166068,  0.3441551 , -0.5462383 , -0.3459034 ,  0.12723339,\n",
       "        0.57519692,  0.19458489,  0.11538988, -0.35766795, -0.93268043,\n",
       "       -0.05474198,  0.69137102,  0.40627387, -0.1487232 , -0.07215235,\n",
       "        0.51806533,  0.7209422 ,  0.30414209, -0.1019576 ,  0.04857222,\n",
       "        0.5746578 ,  0.11768889, -0.55908877, -0.27528775, -0.25056389,\n",
       "        0.26484752, -1.85286534,  0.07813193, -0.42341566,  0.80883634])"
      ]
     },
     "execution_count": 35,
     "metadata": {},
     "output_type": "execute_result"
    }
   ],
   "source": [
    "embedding_matrix[word_index['computer']]"
   ]
  },
  {
   "cell_type": "code",
   "execution_count": 36,
   "id": "025457a1",
   "metadata": {},
   "outputs": [
    {
     "name": "stdout",
     "output_type": "stream",
     "text": [
      "number of word vectors:  15000\n"
     ]
    }
   ],
   "source": [
    "print('number of word vectors: ', len(embedding_matrix))"
   ]
  },
  {
   "cell_type": "markdown",
   "id": "6ecd5c03",
   "metadata": {},
   "source": [
    "Similarity between objects:"
   ]
  },
  {
   "cell_type": "code",
   "execution_count": 37,
   "id": "b3ee1a8f",
   "metadata": {},
   "outputs": [
    {
     "name": "stdout",
     "output_type": "stream",
     "text": [
      "4.820322942313505\n",
      "6.074166225102274\n"
     ]
    }
   ],
   "source": [
    "print(np.linalg.norm(embedding_matrix[word_index['man']] - embedding_matrix[word_index['woman']]))\n",
    "print(np.linalg.norm(embedding_matrix[word_index['cat']] - embedding_matrix[word_index['dog']]))"
   ]
  },
  {
   "cell_type": "markdown",
   "id": "c6a6559f",
   "metadata": {},
   "source": [
    "### glove model"
   ]
  },
  {
   "cell_type": "markdown",
   "id": "430b75be",
   "metadata": {},
   "source": [
    "Loading the model:"
   ]
  },
  {
   "cell_type": "code",
   "execution_count": 38,
   "id": "dbcf162a",
   "metadata": {},
   "outputs": [
    {
     "name": "stdout",
     "output_type": "stream",
     "text": [
      "number of word vectors in GloVe: 400000\n"
     ]
    }
   ],
   "source": [
    "embeddings_index = {}\n",
    "with open('glove.6B.100d.txt', encoding='utf-8') as f:\n",
    "    for line in f:\n",
    "        values = line.split()\n",
    "        word = values[0]\n",
    "        embedding = np.asarray(values[1:], dtype='float32')\n",
    "        embeddings_index[word] = embedding\n",
    "\n",
    "print('number of word vectors in GloVe:', len(embeddings_index))"
   ]
  },
  {
   "cell_type": "markdown",
   "id": "bea0bd2c",
   "metadata": {},
   "source": [
    "Creating the embedding layer:"
   ]
  },
  {
   "cell_type": "code",
   "execution_count": 39,
   "id": "012d001b",
   "metadata": {},
   "outputs": [],
   "source": [
    "glove_embedding_matrix = np.zeros((vocabulary_size, embedding_dim))\n",
    "for word, index in word_index.items():\n",
    "    if index >= vocabulary_size:\n",
    "        continue\n",
    "    embedding_vector = embeddings_index.get(word)\n",
    "    if embedding_vector is not None:\n",
    "        glove_embedding_matrix[index-1] = embedding_vector"
   ]
  },
  {
   "cell_type": "code",
   "execution_count": 40,
   "id": "1ba9c30d",
   "metadata": {},
   "outputs": [
    {
     "data": {
      "text/plain": [
       "array([-0.050144  , -0.30862999, -0.019044  ,  0.3994    , -0.13455001,\n",
       "       -0.095894  ,  0.056637  , -0.29846001,  0.033447  , -0.22065   ,\n",
       "        0.13608   , -0.19844   ,  0.26367   ,  0.57896   ,  0.074624  ,\n",
       "        0.13513   , -0.36596   ,  0.018138  , -0.33013999, -0.18419001,\n",
       "       -0.13022999, -0.12357   ,  0.045459  ,  0.054871  ,  0.31314   ,\n",
       "       -0.013239  , -0.010086  , -0.12916   ,  0.26631999,  0.21287   ,\n",
       "        0.38951999, -0.13948999, -0.1602    ,  0.28738999, -0.22147   ,\n",
       "       -0.08575   ,  0.11342   , -0.33862999, -0.19961999,  0.1468    ,\n",
       "        0.31588   ,  0.033843  , -0.068868  ,  0.24939001, -0.25975999,\n",
       "        0.18592   ,  0.34575999,  0.28922999, -0.021273  ,  0.24684   ,\n",
       "       -0.071011  ,  0.29649001, -0.022333  , -0.19017   , -0.28608   ,\n",
       "        0.76786   ,  0.17952999,  0.29407001, -0.18651   , -0.50182998,\n",
       "        0.047334  , -0.43768999,  0.31163001, -0.23208   , -0.25536001,\n",
       "        0.21636   ,  0.17493001,  0.075736  , -0.65139002, -0.32505   ,\n",
       "        0.62276   , -0.30030999, -0.1418    ,  0.026576  , -0.006264  ,\n",
       "       -0.24355   ,  0.5       , -0.29341999,  0.28121001,  0.27340001,\n",
       "        0.51398998, -0.011556  ,  0.54580998,  0.68300998,  0.33792001,\n",
       "       -0.27921   , -0.018118  ,  0.14064001,  0.18779001,  0.43555   ,\n",
       "        0.21126001,  0.41341001,  0.42929   , -0.026746  ,  0.22367001,\n",
       "        0.21525   ,  0.47453001,  0.25584   , -0.21986   ,  0.11892   ])"
      ]
     },
     "execution_count": 40,
     "metadata": {},
     "output_type": "execute_result"
    }
   ],
   "source": [
    "glove_embedding_matrix[word_index['computer']]"
   ]
  },
  {
   "cell_type": "code",
   "execution_count": 41,
   "id": "5779b91b",
   "metadata": {},
   "outputs": [
    {
     "name": "stdout",
     "output_type": "stream",
     "text": [
      "number of word vectors:  15000\n"
     ]
    }
   ],
   "source": [
    "print('number of word vectors: ', len(glove_embedding_matrix))"
   ]
  },
  {
   "cell_type": "markdown",
   "id": "93e1067e",
   "metadata": {},
   "source": [
    "Similarity between objects:"
   ]
  },
  {
   "cell_type": "code",
   "execution_count": 42,
   "id": "f6f84ad6",
   "metadata": {},
   "outputs": [
    {
     "name": "stdout",
     "output_type": "stream",
     "text": [
      "3.364068\n",
      "2.681131\n"
     ]
    }
   ],
   "source": [
    "print(np.linalg.norm(embeddings_index['man'] - embeddings_index['woman']))\n",
    "print(np.linalg.norm(embeddings_index['cat'] - embeddings_index['dog']))"
   ]
  },
  {
   "cell_type": "markdown",
   "id": "b55fc2c4",
   "metadata": {},
   "source": [
    "## 4. Models: neural network"
   ]
  },
  {
   "cell_type": "markdown",
   "id": "cba9bd19",
   "metadata": {},
   "source": [
    "#### model 1: RNN + embeddings from trained word2vec model"
   ]
  },
  {
   "cell_type": "code",
   "execution_count": 43,
   "id": "376b1d32",
   "metadata": {},
   "outputs": [
    {
     "name": "stdout",
     "output_type": "stream",
     "text": [
      "Model: \"model_1\"\n",
      "_________________________________________________________________\n",
      "Layer (type)                 Output Shape              Param #   \n",
      "=================================================================\n",
      "embedding (Embedding)        (None, 500, 100)          1500000   \n",
      "_________________________________________________________________\n",
      "lstm (LSTM)                  (None, 500, 24)           12000     \n",
      "_________________________________________________________________\n",
      "lstm_1 (LSTM)                (None, 24)                4704      \n",
      "_________________________________________________________________\n",
      "dense (Dense)                (None, 24)                600       \n",
      "_________________________________________________________________\n",
      "dense_1 (Dense)              (None, 20)                500       \n",
      "=================================================================\n",
      "Total params: 1,517,804\n",
      "Trainable params: 17,804\n",
      "Non-trainable params: 1,500,000\n",
      "_________________________________________________________________\n"
     ]
    }
   ],
   "source": [
    "emb = Embedding(input_dim=vocabulary_size,\n",
    "                output_dim=embedding_dim,\n",
    "                weights=[embedding_matrix],\n",
    "                input_length=maxlen,\n",
    "                trainable=False)\n",
    "\n",
    "model1 = Sequential(name=\"model_1\")\n",
    "model1.add(emb)\n",
    "model1.add(LSTM(24, return_sequences=True, dropout=0.2, recurrent_dropout=0.2))\n",
    "model1.add(LSTM(24, return_sequences=False, dropout=0.2, recurrent_dropout=0.2))\n",
    "model1.add(Dense(24, activation = 'relu'))\n",
    "model1.add(Dense(num_classes, activation='softmax'))\n",
    "model1.compile(loss='categorical_crossentropy', optimizer='adam', metrics=['categorical_accuracy'])\n",
    "model1.summary()"
   ]
  },
  {
   "cell_type": "code",
   "execution_count": null,
   "id": "99e6f83a",
   "metadata": {},
   "outputs": [
    {
     "name": "stdout",
     "output_type": "stream",
     "text": [
      "Epoch 1/300\n",
      "95/95 [==============================] - ETA: 0s - loss: 2.9931 - categorical_accuracy: 0.0503\n",
      "Epoch 00001: val_categorical_accuracy improved from -inf to 0.06398, saving model to model_1_weights.hdf5\n",
      "95/95 [==============================] - 113s 1s/step - loss: 2.9931 - categorical_accuracy: 0.0503 - val_loss: 2.9817 - val_categorical_accuracy: 0.0640\n",
      "Epoch 2/300\n",
      "95/95 [==============================] - ETA: 0s - loss: 2.9642 - categorical_accuracy: 0.0738\n",
      "Epoch 00002: val_categorical_accuracy improved from 0.06398 to 0.08305, saving model to model_1_weights.hdf5\n",
      "95/95 [==============================] - 119s 1s/step - loss: 2.9642 - categorical_accuracy: 0.0738 - val_loss: 2.9461 - val_categorical_accuracy: 0.0831\n",
      "Epoch 3/300\n",
      "95/95 [==============================] - ETA: 0s - loss: 2.9117 - categorical_accuracy: 0.0941\n",
      "Epoch 00003: val_categorical_accuracy improved from 0.08305 to 0.09576, saving model to model_1_weights.hdf5\n",
      "95/95 [==============================] - 127s 1s/step - loss: 2.9117 - categorical_accuracy: 0.0941 - val_loss: 2.9032 - val_categorical_accuracy: 0.0958\n",
      "Epoch 4/300\n",
      "95/95 [==============================] - ETA: 0s - loss: 2.8591 - categorical_accuracy: 0.1091\n",
      "Epoch 00004: val_categorical_accuracy improved from 0.09576 to 0.11653, saving model to model_1_weights.hdf5\n",
      "95/95 [==============================] - 127s 1s/step - loss: 2.8591 - categorical_accuracy: 0.1091 - val_loss: 2.8408 - val_categorical_accuracy: 0.1165\n",
      "Epoch 5/300\n",
      "95/95 [==============================] - ETA: 0s - loss: 2.7974 - categorical_accuracy: 0.1283\n",
      "Epoch 00005: val_categorical_accuracy improved from 0.11653 to 0.14068, saving model to model_1_weights.hdf5\n",
      "95/95 [==============================] - 146s 2s/step - loss: 2.7974 - categorical_accuracy: 0.1283 - val_loss: 2.7605 - val_categorical_accuracy: 0.1407\n",
      "Epoch 6/300\n",
      "95/95 [==============================] - ETA: 0s - loss: 2.7506 - categorical_accuracy: 0.1389\n",
      "Epoch 00006: val_categorical_accuracy improved from 0.14068 to 0.15339, saving model to model_1_weights.hdf5\n",
      "95/95 [==============================] - 122s 1s/step - loss: 2.7506 - categorical_accuracy: 0.1389 - val_loss: 2.7127 - val_categorical_accuracy: 0.1534\n",
      "Epoch 7/300\n",
      "95/95 [==============================] - ETA: 0s - loss: 2.7018 - categorical_accuracy: 0.1553\n",
      "Epoch 00007: val_categorical_accuracy did not improve from 0.15339\n",
      "95/95 [==============================] - 127s 1s/step - loss: 2.7018 - categorical_accuracy: 0.1553 - val_loss: 2.7068 - val_categorical_accuracy: 0.1436\n",
      "Epoch 8/300\n",
      "95/95 [==============================] - ETA: 0s - loss: 2.6602 - categorical_accuracy: 0.1649\n",
      "Epoch 00008: val_categorical_accuracy improved from 0.15339 to 0.17076, saving model to model_1_weights.hdf5\n",
      "95/95 [==============================] - 130s 1s/step - loss: 2.6602 - categorical_accuracy: 0.1649 - val_loss: 2.6204 - val_categorical_accuracy: 0.1708\n",
      "Epoch 9/300\n",
      "95/95 [==============================] - ETA: 0s - loss: 2.5985 - categorical_accuracy: 0.1814\n",
      "Epoch 00009: val_categorical_accuracy improved from 0.17076 to 0.17161, saving model to model_1_weights.hdf5\n",
      "95/95 [==============================] - 129s 1s/step - loss: 2.5985 - categorical_accuracy: 0.1814 - val_loss: 2.5900 - val_categorical_accuracy: 0.1716\n",
      "Epoch 10/300\n",
      "95/95 [==============================] - ETA: 0s - loss: 2.5557 - categorical_accuracy: 0.1892\n",
      "Epoch 00010: val_categorical_accuracy improved from 0.17161 to 0.18686, saving model to model_1_weights.hdf5\n",
      "95/95 [==============================] - 125s 1s/step - loss: 2.5557 - categorical_accuracy: 0.1892 - val_loss: 2.5537 - val_categorical_accuracy: 0.1869\n",
      "Epoch 11/300\n",
      "95/95 [==============================] - ETA: 0s - loss: 2.5445 - categorical_accuracy: 0.1916\n",
      "Epoch 00011: val_categorical_accuracy did not improve from 0.18686\n",
      "95/95 [==============================] - 136s 1s/step - loss: 2.5445 - categorical_accuracy: 0.1916 - val_loss: 2.5763 - val_categorical_accuracy: 0.1864\n",
      "Epoch 12/300\n",
      "95/95 [==============================] - ETA: 0s - loss: 2.5117 - categorical_accuracy: 0.2003\n",
      "Epoch 00012: val_categorical_accuracy improved from 0.18686 to 0.20466, saving model to model_1_weights.hdf5\n",
      "95/95 [==============================] - 135s 1s/step - loss: 2.5117 - categorical_accuracy: 0.2003 - val_loss: 2.4889 - val_categorical_accuracy: 0.2047\n",
      "Epoch 13/300\n",
      "95/95 [==============================] - ETA: 0s - loss: 2.4589 - categorical_accuracy: 0.2160\n",
      "Epoch 00013: val_categorical_accuracy did not improve from 0.20466\n",
      "95/95 [==============================] - 129s 1s/step - loss: 2.4589 - categorical_accuracy: 0.2160 - val_loss: 2.6073 - val_categorical_accuracy: 0.1703\n",
      "Epoch 14/300\n",
      "95/95 [==============================] - ETA: 0s - loss: 2.4201 - categorical_accuracy: 0.2256\n",
      "Epoch 00014: val_categorical_accuracy improved from 0.20466 to 0.20805, saving model to model_1_weights.hdf5\n",
      "95/95 [==============================] - 140s 1s/step - loss: 2.4201 - categorical_accuracy: 0.2256 - val_loss: 2.4587 - val_categorical_accuracy: 0.2081\n",
      "Epoch 15/300\n",
      "95/95 [==============================] - ETA: 0s - loss: 2.3973 - categorical_accuracy: 0.2302\n",
      "Epoch 00015: val_categorical_accuracy improved from 0.20805 to 0.22331, saving model to model_1_weights.hdf5\n",
      "95/95 [==============================] - 131s 1s/step - loss: 2.3973 - categorical_accuracy: 0.2302 - val_loss: 2.3859 - val_categorical_accuracy: 0.2233\n",
      "Epoch 16/300\n",
      "95/95 [==============================] - ETA: 0s - loss: 2.3676 - categorical_accuracy: 0.2401\n",
      "Epoch 00016: val_categorical_accuracy did not improve from 0.22331\n",
      "95/95 [==============================] - 137s 1s/step - loss: 2.3676 - categorical_accuracy: 0.2401 - val_loss: 2.5116 - val_categorical_accuracy: 0.2110\n",
      "Epoch 17/300\n",
      "95/95 [==============================] - ETA: 0s - loss: 2.3530 - categorical_accuracy: 0.2421\n",
      "Epoch 00017: val_categorical_accuracy did not improve from 0.22331\n",
      "95/95 [==============================] - 142s 1s/step - loss: 2.3530 - categorical_accuracy: 0.2421 - val_loss: 2.4162 - val_categorical_accuracy: 0.2161\n",
      "Epoch 18/300\n",
      "95/95 [==============================] - ETA: 0s - loss: 2.3226 - categorical_accuracy: 0.2517\n",
      "Epoch 00018: val_categorical_accuracy improved from 0.22331 to 0.23983, saving model to model_1_weights.hdf5\n",
      "95/95 [==============================] - 141s 1s/step - loss: 2.3226 - categorical_accuracy: 0.2517 - val_loss: 2.3382 - val_categorical_accuracy: 0.2398\n",
      "Epoch 19/300\n",
      "95/95 [==============================] - ETA: 0s - loss: 2.2941 - categorical_accuracy: 0.2636\n",
      "Epoch 00019: val_categorical_accuracy improved from 0.23983 to 0.24619, saving model to model_1_weights.hdf5\n",
      "95/95 [==============================] - 139s 1s/step - loss: 2.2941 - categorical_accuracy: 0.2636 - val_loss: 2.3459 - val_categorical_accuracy: 0.2462\n",
      "Epoch 20/300\n",
      "95/95 [==============================] - ETA: 0s - loss: 2.2784 - categorical_accuracy: 0.2726\n",
      "Epoch 00020: val_categorical_accuracy improved from 0.24619 to 0.24661, saving model to model_1_weights.hdf5\n",
      "95/95 [==============================] - 132s 1s/step - loss: 2.2784 - categorical_accuracy: 0.2726 - val_loss: 2.3305 - val_categorical_accuracy: 0.2466\n",
      "Epoch 21/300\n",
      "95/95 [==============================] - ETA: 0s - loss: 2.2658 - categorical_accuracy: 0.2712\n",
      "Epoch 00021: val_categorical_accuracy improved from 0.24661 to 0.25000, saving model to model_1_weights.hdf5\n",
      "95/95 [==============================] - 127s 1s/step - loss: 2.2658 - categorical_accuracy: 0.2712 - val_loss: 2.2972 - val_categorical_accuracy: 0.2500\n",
      "Epoch 22/300\n",
      "95/95 [==============================] - ETA: 0s - loss: 2.2304 - categorical_accuracy: 0.2763\n",
      "Epoch 00022: val_categorical_accuracy improved from 0.25000 to 0.26059, saving model to model_1_weights.hdf5\n",
      "95/95 [==============================] - 127s 1s/step - loss: 2.2304 - categorical_accuracy: 0.2763 - val_loss: 2.3299 - val_categorical_accuracy: 0.2606\n",
      "Epoch 23/300\n",
      "95/95 [==============================] - ETA: 0s - loss: 2.2103 - categorical_accuracy: 0.2858\n",
      "Epoch 00023: val_categorical_accuracy did not improve from 0.26059\n",
      "95/95 [==============================] - 121s 1s/step - loss: 2.2103 - categorical_accuracy: 0.2858 - val_loss: 2.3288 - val_categorical_accuracy: 0.2534\n"
     ]
    },
    {
     "name": "stdout",
     "output_type": "stream",
     "text": [
      "Epoch 24/300\n",
      " 7/95 [=>............................] - ETA: 1:56 - loss: 2.1859 - categorical_accuracy: 0.2971"
     ]
    }
   ],
   "source": [
    "epochs = 300\n",
    "batch_size = 100\n",
    "history = model_fit(model1, x_train_rnn, y_train_rnn, x_valid_rnn, y_valid_rnn, epochs, batch_size)"
   ]
  },
  {
   "cell_type": "code",
   "execution_count": null,
   "id": "c06c6543",
   "metadata": {},
   "outputs": [],
   "source": [
    "m1_y_pred, m1_acc = model_eval(model1, history, x_test_rnn, y_test_rnn)"
   ]
  },
  {
   "cell_type": "code",
   "execution_count": null,
   "id": "7e99d893",
   "metadata": {},
   "outputs": [],
   "source": [
    "model_report(y_test, m1_y_pred, news_train.target_names)"
   ]
  },
  {
   "cell_type": "code",
   "execution_count": null,
   "id": "b440b208",
   "metadata": {},
   "outputs": [],
   "source": [
    "# loading the best weights\n",
    "# model1.load_weights(\"m1_weights.hdf5\")"
   ]
  },
  {
   "cell_type": "markdown",
   "id": "d067dca1",
   "metadata": {},
   "source": [
    "#### model 2: RNN + glove embeddings"
   ]
  },
  {
   "cell_type": "code",
   "execution_count": null,
   "id": "bb5b5c24",
   "metadata": {},
   "outputs": [],
   "source": [
    "emb = Embedding(input_dim=vocabulary_size,\n",
    "                output_dim=embedding_dim,\n",
    "                weights=[glove_embedding_matrix],\n",
    "                input_length=maxlen,\n",
    "                trainable=False)\n",
    "\n",
    "model2 = Sequential(name=\"model_2\")\n",
    "model2.add(emb)\n",
    "model2.add(LSTM(24, return_sequences=True, dropout=0.2, recurrent_dropout=0.2))\n",
    "model2.add(LSTM(24, return_sequences=False, dropout=0.2, recurrent_dropout=0.2))\n",
    "model2.add(Dense(24, activation = 'relu'))\n",
    "model2.add(Dense(num_classes, activation='softmax'))\n",
    "model2.compile(loss='categorical_crossentropy', optimizer='adam', metrics=['categorical_accuracy'])\n",
    "model2.summary()"
   ]
  },
  {
   "cell_type": "code",
   "execution_count": null,
   "id": "63ebf7ea",
   "metadata": {},
   "outputs": [],
   "source": [
    "epochs = 300\n",
    "batch_size = 100\n",
    "history = model_fit(model2, x_train_rnn, y_train_rnn, x_valid_rnn, y_valid_rnn, epochs, batch_size)"
   ]
  },
  {
   "cell_type": "code",
   "execution_count": null,
   "id": "4988cab5",
   "metadata": {},
   "outputs": [],
   "source": [
    "m2_y_pred, m2_acc = model_eval(model2, history, x_test_rnn, y_test_rnn)"
   ]
  },
  {
   "cell_type": "code",
   "execution_count": null,
   "id": "9127bb79",
   "metadata": {},
   "outputs": [],
   "source": [
    "model_report(y_test, m2_y_pred, news_train.target_names)"
   ]
  },
  {
   "cell_type": "markdown",
   "id": "5dc1fe95",
   "metadata": {},
   "source": [
    "#### model 3: simple dense model + tf-idf"
   ]
  },
  {
   "cell_type": "code",
   "execution_count": null,
   "id": "de76db02",
   "metadata": {},
   "outputs": [],
   "source": [
    "model3 = Sequential(name=\"model_3\")\n",
    "model3.add(Dense(1500, input_dim=x_train_ml.shape[1], activation='relu'))\n",
    "model3.add(Dense(20, activation='softmax'))\n",
    "\n",
    "model3.compile(loss='categorical_crossentropy', optimizer='adam', metrics=['categorical_accuracy'])\n",
    "model3.summary()"
   ]
  },
  {
   "cell_type": "code",
   "execution_count": null,
   "id": "ef29c5b2",
   "metadata": {},
   "outputs": [],
   "source": [
    "epochs = 150\n",
    "batch_size = 100\n",
    "history = model_fit(model3, x_train_nn, y_train_nn, x_valid_nn, y_valid_nn, epochs, batch_size)"
   ]
  },
  {
   "cell_type": "code",
   "execution_count": null,
   "id": "bf8fd242",
   "metadata": {},
   "outputs": [],
   "source": [
    "m3_y_pred, m3_acc = model_eval(model3, history, x_test_ml, y_test_rnn)"
   ]
  },
  {
   "cell_type": "code",
   "execution_count": null,
   "id": "2e0b1ad2",
   "metadata": {},
   "outputs": [],
   "source": [
    "model_report(y_test, m3_y_pred, news_train.target_names)"
   ]
  },
  {
   "cell_type": "markdown",
   "id": "9580d235",
   "metadata": {},
   "source": [
    "## 5. Models: other machine learning classifiers"
   ]
  },
  {
   "cell_type": "code",
   "execution_count": null,
   "id": "f6c40588",
   "metadata": {},
   "outputs": [],
   "source": [
    "kfold = StratifiedKFold(n_splits=3)"
   ]
  },
  {
   "cell_type": "markdown",
   "id": "780cc198",
   "metadata": {},
   "source": [
    "### naive bayes"
   ]
  },
  {
   "cell_type": "code",
   "execution_count": null,
   "id": "ce0d2b45",
   "metadata": {},
   "outputs": [],
   "source": [
    "model_nb = MultinomialNB()\n",
    "params = {'alpha':[0.01, 0.05, 0.1]}\n",
    "\n",
    "grid_nb = GridSearchCV(model_nb, params, cv=kfold, scoring = 'accuracy')\n",
    "grid_nb.fit(x_train_ml, y_train_ml)\n",
    "print(grid_nb.best_params_)"
   ]
  },
  {
   "cell_type": "code",
   "execution_count": null,
   "id": "e1de46ef",
   "metadata": {},
   "outputs": [],
   "source": [
    "show_model_performance(grid_nb.best_estimator_, x_train_ml, y_train_ml, x_test_ml, y_test_ml)"
   ]
  },
  {
   "cell_type": "code",
   "execution_count": null,
   "id": "b3260351",
   "metadata": {},
   "outputs": [],
   "source": [
    "m4_y_pred = grid_nb.best_estimator_.predict(x_test_ml)\n",
    "model_report(y_test, m4_y_pred, news_train.target_names)"
   ]
  },
  {
   "cell_type": "markdown",
   "id": "c9e90838",
   "metadata": {},
   "source": [
    "### support vector machine"
   ]
  },
  {
   "cell_type": "code",
   "execution_count": null,
   "id": "db899351",
   "metadata": {},
   "outputs": [],
   "source": [
    "model_svc = SVC()\n",
    "params = {\n",
    "    'gamma': [0.01, 0.1],\n",
    "    'C': [0.01, 0.1, 1]\n",
    "}\n",
    "\n",
    "grid_svc = GridSearchCV(model_svc, params, cv=kfold, scoring = 'accuracy')\n",
    "grid_svc.fit(x_train_ml, y_train_ml)\n",
    "print(grid_svc.best_params_)"
   ]
  },
  {
   "cell_type": "code",
   "execution_count": null,
   "id": "e7862fa1",
   "metadata": {},
   "outputs": [],
   "source": [
    "show_model_performance(grid_svc.best_estimator_, x_train_ml, y_train_ml, x_test_ml, y_test_ml)"
   ]
  },
  {
   "cell_type": "code",
   "execution_count": null,
   "id": "44bd8cad",
   "metadata": {},
   "outputs": [],
   "source": [
    "m5_y_pred = grid_svc.best_estimator_.predict(x_test_ml)\n",
    "#model_report(y_test, m5_y_pred, news_train.target_names)"
   ]
  },
  {
   "cell_type": "markdown",
   "id": "1c0208b4",
   "metadata": {},
   "source": [
    "### random forest"
   ]
  },
  {
   "cell_type": "code",
   "execution_count": null,
   "id": "984a6c88",
   "metadata": {},
   "outputs": [],
   "source": [
    "model_rf = RandomForestClassifier()\n",
    "params = {\n",
    "    'n_estimators': [10, 50, 100],\n",
    "    'min_samples_leaf': [5, 10, 20]\n",
    "}\n",
    "\n",
    "grid_rf = GridSearchCV(model_rf, params, cv=kfold, scoring = 'accuracy')\n",
    "grid_rf.fit(x_train_ml, y_train_ml)\n",
    "print(grid_rf.best_params_)"
   ]
  },
  {
   "cell_type": "code",
   "execution_count": null,
   "id": "b346e2f3",
   "metadata": {},
   "outputs": [],
   "source": [
    "show_model_performance(grid_rf.best_estimator_, x_train_ml, y_train_ml, x_test_ml, y_test_ml)"
   ]
  },
  {
   "cell_type": "code",
   "execution_count": null,
   "id": "4b664b08",
   "metadata": {},
   "outputs": [],
   "source": [
    "m6_y_pred = grid_rf.best_estimator_.predict(x_test_ml)\n",
    "#model_report(y_test, m6_y_pred, news_train.target_names)"
   ]
  },
  {
   "cell_type": "markdown",
   "id": "5c6bdbf6",
   "metadata": {},
   "source": [
    "## 6. Comparison of accuracy scores of different classifiers"
   ]
  },
  {
   "cell_type": "code",
   "execution_count": null,
   "id": "197cd578",
   "metadata": {},
   "outputs": [],
   "source": [
    "models_names = ['rnn w2w', 'rnn glove', 'dense nn', 'naive bayes', 'svm', 'random forest']\n",
    "acc_values = [m1_acc, m2_acc, m3_acc, m4_acc, m5_acc, m6_acc, m7_acc]\n",
    "plot_acc(models_names, acc_values\n"
   ]
  },
  {
   "cell_type": "markdown",
   "id": "c286be02",
   "metadata": {},
   "source": [
    "According to accuracy scores, the thrid model achieve the best result for this classification problem."
   ]
  },
  {
   "cell_type": "markdown",
   "id": "abc17148",
   "metadata": {},
   "source": [
    "## 7. Predict group for new document"
   ]
  },
  {
   "cell_type": "code",
   "execution_count": null,
   "id": "2e3afa6d",
   "metadata": {},
   "outputs": [],
   "source": [
    "news = \"It's not possible for life to exist in the clouds of Venus. It's simply too dry, says an international research team led from Queen's University Belfast, UK. Hopes had been raised last year that microbes might inhabit the Venusian atmosphere, given the presence there of the gas phosphine (PH3). It was suggested the concentration could not be explained by geological activity alone. But the new Belfast study puts a dampener on this idea. The team assessed what is known about conditions in the clouds, gathered by space probes, and then looked across the library of lifeforms on Earth to see if any known organisms could persist in that challenging environment. The clouds are mostly sulphuric acid with a tiny fraction of water. The analysis concluded that the most extreme 'extremophile' - the name for microbes that live in very challenging conditions - wouldn't be able to survive, let alone thrive. 'We found not only is the effective concentration of water molecules slightly below what's needed for the most resilient microorganism on Earth, it's more than 100 times too low. It's almost at the bottom of the scale, and an unbridgeable distance from what life requires to be active,' Dr John Hallsworth from Belfast's School of Biological Sciences said. Does this 'kill' the idea of detecting life on Venus? It was certainly a thrilling and intriguing announcement when a separate team came forward last September with the tantalising observations of PH3 at the second planet from the Sun. On Earth, phosphine is associated with life, with microbes living in the guts of animals like penguins, or in oxygen-poor environments such as swamps. It's possible to make the gas industrially, but there are no factories on Venus; so its signal in the planet's clouds demanded an explanation. September's team, led by Prof Jane Greaves from Cardiff University, raised the possibility of Venusian life and invited other groups to knock down the proposition. Some astronomers initially questioned the correctness of the PH3 observations, which were made with two different telescope systems. But this latest challenge comes from a very different quarter - from experts in biochemistry. Dr Hallsworth is a microbiologist whose focus is the reaction of living organisms to stress. Prof Greaves praised his work on Monday, describing the new study as an excellent piece of work. But she still thinks there is the possibility of a liveable window in the Venusian clouds. 'We spoke about this at some length last year; we know Venus's atmosphere is extremely desiccated but what we don't know is how well mixed it is. 'A colleague, Paul Rimmer, has a paper just out showing that some cloud droplets could have a very high water content,' she told BBC News. Prof Greaves highlighted the dark streaks sometimes seen on short timescales in the atmosphere in ultraviolet light. It's been speculated that these could be microbial colonies that evolve, die out and then re-emerge. Dr Chris McKay is a leading figure in astrobiology, a field that examines the possibilities for life beyond Earth. The US space agency (Nasa) researcher, a co-author on the new Hallsworth study, said he would love to think Venus was inhabited but that the direct measurements of the atmosphere made by past probes really suggested this was unlikely. More promising - although still very difficult to prove - is the notion that life might exist in the cloud layers of Jupiter. The new research indicates compatible temperatures and water availability should be found at a depth where the pressure is about five times that at sea-level on Earth. Of course, this says nothing about the other requirements for life, such as a supply of nutrients. 'It's much harder to say a place is habitable than to say a place is not habitable, Dr McKay explained. 'To say a place is not habitable, all one has to do is show that some condition is beyond the range that life can tolerate. We've done that for Venus, unfortunately. 'We also show that one parameter - water activity - is within the range in a certain layer at Jupiter. But to show that this layer is habitable, we would have to go through all the requirements for life and show that they're all met. So it's much harder to say, Jupiter's atmosphere is habitable than it is to say Venus's clouds are uninhabitable.' Venus is the hot planetary topic of the moment. Nasa and the European Space Agency have just approved three new missions to go visit the world, starting at the end of this decade. And a private launch company, Rocket Lab, intends to send an atmospheric entry craft as soon as 2023. This has contributions from members of Prof Greaves' team and will look to sample the phosphine gas as the probe descends through the clouds. Additionally, the team is about to formally publish responses to other scientists who doubted the robustness of their telescopic observations. 'We've looked at the data again, major improvements have been made [by the staff at the Alma observatory in Chile], and I'm really happy with what we've seen at Venus,' Prof Greaves said.\"\n",
    "\n",
    "predict_news_group(news, grid_nb.best_estimator_, tfidf_vectorizer)"
   ]
  },
  {
   "cell_type": "code",
   "execution_count": null,
   "id": "c2d043be",
   "metadata": {},
   "outputs": [],
   "source": []
  }
 ],
 "metadata": {
  "kernelspec": {
   "display_name": "Python 3",
   "language": "python",
   "name": "python3"
  },
  "language_info": {
   "codemirror_mode": {
    "name": "ipython",
    "version": 3
   },
   "file_extension": ".py",
   "mimetype": "text/x-python",
   "name": "python",
   "nbconvert_exporter": "python",
   "pygments_lexer": "ipython3",
   "version": "3.8.5"
  }
 },
 "nbformat": 4,
 "nbformat_minor": 5
}
